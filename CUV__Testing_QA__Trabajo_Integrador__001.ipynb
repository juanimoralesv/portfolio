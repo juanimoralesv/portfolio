{
 "cells": [
  {
   "cell_type": "markdown",
   "id": "610aae52-54f5-4ead-b925-73c5d742b5f7",
   "metadata": {},
   "source": [
    "# Trabajo Integrador\n",
    "\n",
    "## Parte 1: Diseño de Casos de Prueba"
   ]
  },
  {
   "cell_type": "markdown",
   "id": "295fbc83-8b60-44ba-80d5-6b65e790d593",
   "metadata": {},
   "source": [
    "### 1 - Selección de una Aplicación"
   ]
  },
  {
   "cell_type": "markdown",
   "id": "cb52bab8-5d5e-476c-867a-7661411836a5",
   "metadata": {},
   "source": [
    "Se elige el sitio web [Lanzamientos Espaciales](lanzamientosespaciales.com), que trata sobre vuelo espacial. Particularmente, hace seguimiento de despegues de cohetes orbitales, presentándolos característicamente en formato de calendario. Al respecto se ofrecen artículos explicativos donde se describen las distintas misiones y sus cargas útiles. Adicionalmente, el calendario también cubre algunos vuelos de cohetes suborbitales, como así también otros eventos relacionados. Al pie de estos textos, Lanzamientos Espaciales brinda la oportunidad de dejar un mensaje para interactuar con los autores, o con otros lectores de la comunidad. Por otro lado, el resto del sitio abarca otros tópicos aledaños, como información sobre la empresa SpaceX, descripciones de cohetes y más."
   ]
  },
  {
   "cell_type": "markdown",
   "id": "ec89b9e4-7c5e-4831-8ce3-834d54088695",
   "metadata": {},
   "source": [
    "### 2 - Definición de Funcionalidades a Probar"
   ]
  },
  {
   "cell_type": "markdown",
   "id": "12d8a88e-c926-4a22-8353-6642d2107a60",
   "metadata": {},
   "source": [
    "Principalmente, el sitio Lanzamientos Espaciales debe tener en correcto funcionamiento:\n",
    "1. su página principal con el acceso rápido a los próximos seis eventos, se trate de lanzamientos u otra cosa, y a sus artículos explicativos.\n",
    "    - De esta forma, el usuario puede visualizar rápidamente cuáles son los eventos que se avecinan, enterarse rápidamente de los detalles más básicos, como el nombre de la misión, del cohete lanzador, y tanto fecha y horario, como el punto de partida.\n",
    "2. su página de calendario, permitiendo acceso a artículos explicativos pasados y futuros.\n",
    "    - A través de ésta, puede acceder a lo mencionado para el punto 1, pero además también cuenta con la posibilidad de ingresar a eventos pasados. Asimismo, el calendario le facilita la búsqueda mediante cinco filtros: año, mes, organizador, localización y categoría.\n",
    "3. su herramienta para que los lectores puedan dejar comentarios bajo los artículos de eventos.\n",
    "    - Gracias a los comentarios, los usuarios pueden evacuar dudas, o sencillamente interactuar con el equipo de Lanzamientos Espaciales o entre ellos, generando así un sentido de comunidad que ayude a crecer al sitio web."
   ]
  },
  {
   "cell_type": "markdown",
   "id": "5c7c80a3-b54c-4b28-9572-fc11804b4fe0",
   "metadata": {},
   "source": [
    "### 3 - Diseño de Casos de Prueba"
   ]
  },
  {
   "cell_type": "markdown",
   "id": "53e4416a-edbc-4cf6-83c2-8734119c84bd",
   "metadata": {},
   "source": [
    "#### Pruebas Positivas"
   ]
  },
  {
   "cell_type": "markdown",
   "id": "73105406-605f-468e-a011-35cc1ee08ce6",
   "metadata": {},
   "source": [
    "- - - \n",
    "\n",
    "##### *ID*: LE_PP0001 - *Título*: Ingresar a Artículo Futuro desde Página Principal"
   ]
  },
  {
   "cell_type": "markdown",
   "id": "1e67031b-77e3-4e6d-ac47-fdbf7ef55b8d",
   "metadata": {},
   "source": [
    "- **Descripción**\n",
    "    <br>Se busca corroborar que efectivamente el usuario sea capaz de ingresar al artículo explicativo de uno de los evento futuros más próximos, mostrados como tarjetas en la página principal. \n",
    "- **Precondiciones**\n",
    "    <br>N/A\n",
    "- **Datos de Prueba**\n",
    "    - URL de la página principal: `lanzamientosespaciales.com`\n",
    "- **Fuentes de Datos**\n",
    "    <br>N/A \n",
    "- **Tipo de Prueba**\n",
    "    <br>Positiva \n",
    "- **Pasos de Ejecución**\n",
    "| *Paso* | *Resultado Esperado* | *Resultados Reales* |\n",
    "|--------------|--------------|--------------|\n",
    "| 1) Ingresar a la página principal del sitio web. | Se abre correctamente la página principal del sitio mostrando el título \"Calendario de lanzamientos espaciales\". |\n",
    "| 2) Descender en la pantalla usando la rueda del mouse o la barra de desplazamiento hasta encotrar las seis tarjetas con los seis próximos eventos. | Se encuentran las seis mencionadas tarjetas, que muestran datos como nombre de la misión, del cohete, fecha, hora y sitio de lanzamiento. |  |\n",
    "| 3) Hacer clic sobre una de las seis tarjetas mencionadas. | Se abre la página del respectivo artículo explicativo, mostrando a la derecha la cuenta regresiva, fecha y otra, junto con otros datos. A la izquierda, debe verse la imagen de portada según el cohete, el nombre del artículo y por debajo el cuerpo del artículo. |  |\n",
    "\n",
    "- **Estado del Caso**\n",
    "    - *Resultado final*:\n",
    "    - *Comentarios*:\n",
    "- **Información Adicional**\n",
    "    - *Ejecutado por*:\n",
    "    - *Fecha de ejecución*:\n",
    "    - *Ambiente de pruebas*:"
   ]
  },
  {
   "cell_type": "markdown",
   "id": "84e5129f-1283-41ae-bbee-2b1eca619fc3",
   "metadata": {},
   "source": [
    "- - -\n",
    "\n",
    "##### *ID*: LE_PP0002 - *Título*: Ingresar a Artículo Futuro desde Calendario"
   ]
  },
  {
   "cell_type": "markdown",
   "id": "0cddc5bf-a862-4073-a783-357129473bc3",
   "metadata": {},
   "source": [
    "- **Descripción**\n",
    "    <br>Se busca corroborar que efectivamente el usuario sea capaz de ingresar al artículo explicativo de un evento futuro en la página del calendario. \n",
    "- **Precondiciones**\n",
    "    <br>Encontrarse en la página principal de Lanzamientos Espaciales: `lanzamientosespaciales.com`.\n",
    "- **Datos de Prueba**\n",
    "    <br>N/A \n",
    "- **Fuentes de Datos**\n",
    "    <br>N/A \n",
    "- **Tipo de Prueba**\n",
    "    <br>Positiva \n",
    "- **Pasos de Ejecución**\n",
    "| *Paso* | *Resultado Esperado* | *Resultados Reales* |\n",
    "|--------------|--------------|--------------|\n",
    "| 1) Hacer clic en el botón \"Calendario\", de color rosa y ubicado en la esquina superior derecha de la pantalla.  | Se abre la titulada \"Calendario de lanzamientos espaciales\", mostrando cinco filtros, dos botones de navegación al mes anterior/posterior y el calendario listando los eventos en sus respectivas fechas. |  |\n",
    "| 2) Buscar un evento futuro y hacer clic sobre su nombre en el calendario. | Se abre la página del respectivo artículo explicativo, mostrando a la derecha la cuenta regresiva, fecha y otra, junto con otros datos. A la izquierda, debe verse la imagen de portada según el cohete, el nombre del artículo y por debajo el cuerpo del artículo. |  |\n",
    "\n",
    "- **Estado del Caso**\n",
    "    - *Resultado final*:\n",
    "    - *Comentarios*:\n",
    "- **Información Adicional**\n",
    "    - *Ejecutado por*:\n",
    "    - *Fecha de ejecución*:\n",
    "    - *Ambiente de pruebas*:"
   ]
  },
  {
   "cell_type": "markdown",
   "id": "e896dd46-4446-4421-90a8-f8430da26840",
   "metadata": {},
   "source": [
    "- - - \n",
    "\n",
    "##### *ID*: LE_PP0003 - *Título*: Ingresar a Artículo Pasado desde Calendario"
   ]
  },
  {
   "cell_type": "markdown",
   "id": "cf5575af-ae13-40c1-85c6-8e95493df3fb",
   "metadata": {},
   "source": [
    "- **Descripción**\n",
    "    <br>Se busca corroborar que efectivamente el usuario sea capaz de ingresar al artículo explicativo de un evento pasado en la página del calendario, utilizando para ello los filtros. \n",
    "- **Precondiciones**\n",
    "    <br>Encontrarse en la página principal de Lanzamientos Espaciales: `lanzamientosespaciales.com`\n",
    "- **Datos de Prueba**\n",
    "    - Parámetros para filtrado:\n",
    "        - Año: `2023`\n",
    "        - Mes: `septiembre/octubre`\n",
    "        - Categoría: `Orbitales`\n",
    "        - Organizador: `SpaceX`\n",
    "        - Localización: `Centro Espacial John F. Kennedy`\n",
    "    - Artículo: Falcon Heavy | Psyche\n",
    "- **Fuentes de Datos**\n",
    "    <br>N/A \n",
    "- **Tipo de Prueba**\n",
    "    <br>Positiva \n",
    "- **Pasos de Ejecución**\n",
    "| *Paso* | *Resultado Esperado* | *Resultados Reales* |\n",
    "|--------------|--------------|--------------|\n",
    "| 1) Hacer clic en el botón \"Calendario\", de color rosa y ubicado en la esquina superior derecha de la pantalla.  | Se abre la página titulada \"Calendario de lanzamientos espaciales\", mostrando cinco filtros, dos botones de navegación al mes anterior/posterior y el calendario listando los eventos en sus respectivas fechas. |  |\n",
    "| 2) Ingresar los parámetros de filtrado en los menúes desplegables de los filtros y según se especifica en *Datos de Prueba*. | Tras cada parámetro ingresado se observa que el calendario presenta solamente los eventos acorde al criterio de filtrado que se está ingresando. |  |\n",
    "| 3) Buscar el evento pasado indicado en *Datos de Prueba*, \"Falcon Heavy \\| Psyche\" y hacer clic sobre su nombre en el calendario. | Se abre la página del respectivo artículo explicativo, mostrando a la derecha la cuenta regresiva, fecha y otra, junto con otros datos. A la izquierda, debe verse la imagen de portada según el cohete, el nombre del artículo y por debajo el cuerpo del artículo. |  |\n",
    "\n",
    "- **Estado del Caso**\n",
    "    - *Resultado final*:\n",
    "    - *Comentarios*:\n",
    "- **Información Adicional**\n",
    "    - *Ejecutado por*:\n",
    "    - *Fecha de ejecución*:\n",
    "    - *Ambiente de pruebas*:"
   ]
  },
  {
   "cell_type": "markdown",
   "id": "74bf42e1-3d30-4bd4-b809-cc26515bf54c",
   "metadata": {},
   "source": [
    "- - - \n",
    "\n",
    "##### *ID*: LE_PP0004 - *Título*: Probar Filtros de Calendario Reinicializando Cada Uno"
   ]
  },
  {
   "cell_type": "markdown",
   "id": "f7c47989-8c7e-40d5-baa8-5b00e7eaa7a4",
   "metadata": {},
   "source": [
    "- **Descripción**\n",
    "    <br>Se busca corroborar el correcto funcionamiento de los filtros del calendario, tanto al ingresar una opción en cada uno de ellos, como al reinicializarlos. \n",
    "- **Precondiciones**\n",
    "    <br>Encontrarse en la página calendario de Lanzamientos Espaciales: `lanzamientosespaciales.com/calendar`.\n",
    "- **Datos de Prueba**\n",
    "    - Parámetros para filtrado:\n",
    "        - Año: `2023`\n",
    "        - Mes: `septiembre/octubre`\n",
    "        - Categoría: `Orbitales`\n",
    "        - Organizador: `SpaceX`\n",
    "        - Localización: `Centro Espacial John F. Kennedy`\n",
    "- **Fuentes de Datos**\n",
    "    <br>N/A \n",
    "- **Tipo de Prueba**\n",
    "    <br>Positiva \n",
    "- **Pasos de Ejecución**\n",
    "| *Paso* | *Resultado Esperado* | *Resultados Reales* |\n",
    "|--------------|--------------|--------------|\n",
    "| 1) Hacer clic en el menú desplegable del filtro que muestra el año actual y elegir 2023.  | Se filtra el calendario a ese año y al mes actual. |  |\n",
    "| 2) Hacer clic en el mismo filtro y elegir \"Select Year\". | Se filtra el calendario al año y mes actuales, reiniciando así el filtro. |  |\n",
    "| 3) Hacer clic en el menú desplegable del filtro que muestra el mes actual y elegir septiembre u octubre. | Se filtra el calendario al año actual y al mes elegido. |  |\n",
    "| 4) Hacer clic en el mismo filtro y elegir \"Select Month\". | Se filtra el calendario al año y mes actuales, reiniciando así el filtro. |  |\n",
    "| 5) Hacer clic en el menú desplegable del filtro que indica \"Categoría\" y elegir 'Orbitales'. | Se filtra el calendario en el año y mes actuales, pero mostrando solamente lanzamientos orbitales. |  |\n",
    "| 6) Hacer clic en el mismo filtro y elegir \"Categoria\". | Se filtra el calendario a todos los eventos del año y mes actuales, reiniciando así el filtro. |  |\n",
    "| 7) Hacer clic en el menú desplegable del filtro que indica \"Localización\" y elegir 'Centro Espacial John F. Kennedy'. | Se filtra el calendario al año y mes actuales, pero limitándose a los eventos con dicha localización. |  |\n",
    "| 8) Hacer clic en el mismo filtro y elegir \"Localización\". | Se filtra el calendario al año y mes actuales, reiniciando así el filtro. |  |\n",
    "| 9) Hacer clic en el menú desplegable del filtro que indica \"Organizador\" y elegir 'SpaceX'. | Se filtra el calendario al año y mes actuales, pero limitándose a los eventos con dicho organizador. |  |\n",
    "| 10) Hacer clic en el mismo filtro y elegir \"Organizador\". | Se filtra el calendario al año y mes actuales, reiniciando así el filtro. |  |\n",
    "\n",
    "- **Estado del Caso**\n",
    "    - *Resultado final*:\n",
    "    - *Comentarios*:\n",
    "- **Información Adicional**\n",
    "    - *Ejecutado por*:\n",
    "    - *Fecha de ejecución*:\n",
    "    - *Ambiente de pruebas*:"
   ]
  },
  {
   "cell_type": "markdown",
   "id": "15b90c34-594f-4db4-b225-c0f6e4e754f9",
   "metadata": {},
   "source": [
    "- - - \n",
    "\n",
    "##### *ID*: LE_PP0005 - *Título*: Escribir Correctamente un Comentario bajo un Artículo de Lanzamiento"
   ]
  },
  {
   "cell_type": "markdown",
   "id": "be08817d-fd04-4a82-aad3-c1d61137fe83",
   "metadata": {},
   "source": [
    "- **Descripción**\n",
    "    <br>Se busca corroborar el correcto funcionamiento del recuadro para escribir comentarios debajo de los artículos explicativos de cada lanzamiento u otro tipo de evento del calendario.\n",
    "- **Precondiciones**\n",
    "    <br>Encontrarse ubicado en un artículo explicativo. Se usará de la URL indicada en *Datos de Prueba*. \n",
    "- **Datos de Prueba**\n",
    "    - URL del artículo explicativo: `lanzamientosespaciales.com/calendario/falcon-heavy-mision-psyche`.\n",
    "    - Texto para comentario: `Lorem ipsum dolor sit amet, consectetur adipiscing elit. Sed do eiusmod tempor incididunt ut labore et dolore magna aliqua. Ut enim ad minim veniam, quis nostrud exercitation ullamco laboris nisi ut aliquip ex ea commodo consequat.`\n",
    "    - Nombre para comentario: `Mariana Eustaquia Fernández Gandhi`\n",
    "    - Correo electrónico para comentario: `mariana.e.fernandez.g@ejemplo.com`\n",
    "- **Fuentes de Datos**\n",
    "    <br>N/A\n",
    "- **Tipo de Prueba**\n",
    "    <br>Positiva\n",
    "- **Pasos de Ejecución**\n",
    "| *Paso* | *Resultado Esperado* | *Resultados Reales* |\n",
    "|--------------|--------------|--------------|\n",
    "| 1) Usando la barra de desplazamiento o la rueda del mouse, dirigirse a la parte inferior de la página, justo debajo del título \"Deja una respuesta\". | Se ven tres campos de texto obligatorios: Comentario, Nombre, Correo electrónico; además, otro campo de texto optativo: Web. |  |\n",
    "| 2) Ingresar los datos obligatorios en los tres campos correspondientes, según se detalla en *Datos de Prueba*. | Los campos quedan completados. |  |\n",
    "| 3) Hacer clic en el botón rosa \"Publicar el comentario\", ubicado debajo de los campos de texto a la izquierda. | En la parte inferior de la página, debajo de la tabla \"Detalles del cohete\", aparece el comentario ingresado, pero debajo del mismo se lee \"Tu comentario está pendiente de moderación.\" Debajo se repite \"Deja una respuesta\" y vuelven a aparecer los campos de texto. |  |\n",
    "\n",
    "- **Estado del Caso**\n",
    "    - *Resultado final*:\n",
    "    - *Comentarios*:\n",
    "- **Información Adicional**\n",
    "    - *Ejecutado por*:\n",
    "    - *Fecha de ejecución*:\n",
    "    - *Ambiente de pruebas*:"
   ]
  },
  {
   "cell_type": "markdown",
   "id": "280f0c08-d677-4528-9399-5fb32eab8ee1",
   "metadata": {},
   "source": [
    "- - -\n",
    "- - -\n",
    "\n",
    "#### Pruebas Negativas"
   ]
  },
  {
   "cell_type": "markdown",
   "id": "ddb18ea0-e12d-41d3-8b56-8c97fbc3e489",
   "metadata": {},
   "source": [
    "- - -\n",
    "\n",
    "##### *ID*: LE_PN0001 - *Título*: Ingresar Manualmente una URL Incorrecta"
   ]
  },
  {
   "cell_type": "markdown",
   "id": "aaa57d8f-165d-4777-88ef-25bac6487c82",
   "metadata": {},
   "source": [
    "- **Descripción**\n",
    "    <br>Con esta prueba se busca verificar el correcto manejo ante el uso de una URL incorrecta dentro del dominio del sitio web.\n",
    "- **Precondiciones**\n",
    "    <br>N/A\n",
    "- **Datos de Prueba**\n",
    "    - URL de la página principal: `lanzamientosespaciales.com`.\n",
    "    - URL incorrecta: `lanzamientosespaciales.com/navesespaciales`.\n",
    "- **Fuentes de Datos**\n",
    "    <br>N/A \n",
    "- **Tipo de Prueba**\n",
    "    <br>Negativa. \n",
    "- **Pasos de Ejecución**\n",
    "| *Paso* | *Resultado Esperado* | *Resultados Reales* |\n",
    "|--------------|--------------|--------------|\n",
    "| 1) Ingresar a la página principal de Lanzamientos Espaciales según URL provista en *Datos de Prueba*. | Se abre correctamente la página principal, mostrando la barra de navegación superior, el texto \"Calendario de Lanzamientos Espaciales\" a la izquierda y un cohete (Starship) a la derecha (además de otras secciones desplazándse hacia abajo). |  |\n",
    "| 2) Ingresar la URL incorrecta en la barra de direcciones del navegador, de acuerdo a la URL indicada en *Datos de Prueba*. | Se abre una página de error con el texto \"¡Houston, tenemos\n",
    "un problema!\" |  |\n",
    "- **Estado del Caso**\n",
    "    - *Resultado final*:\n",
    "    - *Comentarios*:\n",
    "- **Información Adicional**\n",
    "    - *Ejecutado por*:\n",
    "    - *Fecha de ejecución*:\n",
    "    - *Ambiente de pruebas*:"
   ]
  },
  {
   "cell_type": "markdown",
   "id": "4855c9b0-4db7-411e-8201-51166cb2875c",
   "metadata": {},
   "source": [
    "- - -\n",
    "\n",
    "##### *ID*: LE_PN0002 - *Título*: Intentar Publicar Mensaje Ingresando Correo con Formato Incorrecto"
   ]
  },
  {
   "cell_type": "markdown",
   "id": "110016f2-b560-494b-8e97-1e2a05d4141a",
   "metadata": {},
   "source": [
    "- **Descripción**\n",
    "    <br>Se busca corroborar el correcto funcionamiento del campo \"Correo electrónico\" necesario para escribir comentarios debajo de los artículos explicativos de cada lanzamiento u otro tipo de evento del calendario. En particular, su capacidad de validar direcciones de correo electrónico con formato correcto e identificar las que no lo tienen.\n",
    "- **Precondiciones**\n",
    "    <br>Encontrarse ubicado en un artículo explicativo. Se usará de la URL indicada en *Datos de Prueba*. \n",
    "- **Datos de Prueba**\n",
    "    - URL del artículo explicativo: `lanzamientosespaciales.com/calendario/falcon-heavy-mision-psyche`.\n",
    "    - Texto para comentario: `Lorem ipsum dolor sit amet, consectetur adipiscing elit. Sed do eiusmod tempor incididunt ut labore et dolore magna aliqua. Ut enim ad minim veniam, quis nostrud exercitation ullamco laboris nisi ut aliquip ex ea commodo consequat.`\n",
    "    - Nombre para comentario: `Mariana Eustaquia Fernández Gandhi`\n",
    "    - Correo electrónico con formato incorrecto: `mariana.e.fernandez.g-ejemplo.com`\n",
    "- **Fuentes de Datos**\n",
    "    <br>N/A\n",
    "- **Tipo de Prueba**\n",
    "    <br>Negativa \n",
    "- **Pasos de Ejecución**\n",
    "| *Paso* | *Resultado Esperado* | *Resultados Reales* |\n",
    "|--------------|--------------|--------------|\n",
    "| 1) Usando la barra de desplazamiento o la rueda del mouse, dirigirse a la parte inferior de la página, justo debajo del título \"Deja una respuesta\". | Se ven tres campos de texto obligatorios: Comentario, Nombre, Correo electrónico; además, otro campo de texto optativo: Web. |  |\n",
    "| 2) Ingresar los datos obligatorios en los tres campos correspondientes, según se detalla en *Datos de Prueba*. | Los campos quedan completados. |  |\n",
    "| 3) Hacer clic en el botón rosa \"Publicar el comentario\", ubicado debajo de los campos de texto a la izquierda. | Se muestra una pantalla de error, con el texto: \"Error: por favor, introduce una dirección de correo electrónico válida.\" |  |\n",
    "\n",
    "- **Estado del Caso**\n",
    "    - *Resultado final*:\n",
    "    - *Comentarios*:\n",
    "- **Información Adicional**\n",
    "    - *Ejecutado por*:\n",
    "    - *Fecha de ejecución*:\n",
    "    - *Ambiente de pruebas*:"
   ]
  },
  {
   "cell_type": "markdown",
   "id": "f7a35d2d-1d6e-44f8-8dd2-cefed519827b",
   "metadata": {},
   "source": [
    "- - -\n",
    "\n",
    "##### *ID*: LE_PN0003 - *Título*: Intentar Enviar Comentario con Campos Obligatorios Vacíos"
   ]
  },
  {
   "cell_type": "markdown",
   "id": "2f90d93e-2bba-43a8-9698-1c4ab53046f2",
   "metadata": {},
   "source": [
    "- **Descripción**\n",
    "    <br>Validar que el sistema impida enviar un comentario si uno o más campos obligatorios (Comentario, Nombre, Correo electrónico) están vacíos. \n",
    "- **Precondiciones**\n",
    "    <br>Estar ubicado en un artículo explicativo. Usar la URL indicada en *Datos de Prueba*.\n",
    "- **Datos de Prueba**\n",
    "    - URL del artículo explicativo: `lanzamientosespaciales.com/calendario/falcon-heavy-mision-psyche`\n",
    "    - Texto para comentario: `Lorem ipsum dolor sit amet, consectetur adipiscing elit. Sed do eiusmod tempor incididunt ut labore et dolore magna aliqua. Ut enim ad minim veniam, quis nostrud exercitation ullamco laboris nisi ut aliquip ex ea commodo consequat.`\n",
    "    - Nombre para comentario: `Mariana Eustaquia Fernández Gandhi`\n",
    "    - Correo electrónico para comentario: `mariana.e.fernandez.g@ejemplo.com`\n",
    "- **Fuentes de Datos**\n",
    "    <br>N/A \n",
    "- **Tipo de Prueba**\n",
    "    <br>Negativa \n",
    "- **Pasos de Ejecución**\n",
    "| *Paso* | *Resultado Esperado* | *Resultados Reales* |\n",
    "|--------------|--------------|--------------|\n",
    "| 1) Usando la barra de desplazamiento o la rueda del mouse, dirigirse a la parte inferior de la página, justo debajo del título \"Deja una respuesta\". | Se ven tres campos de texto obligatorios: Comentario, Nombre, Correo electrónico; además, otro campo de texto optativo: Web. |  |\n",
    "| 2) Intentar enviar el comentario con todos los campos vacíos. | Aparece un globo dentro del que dice \"[!] Completa este campo\" y que apunta al campo \"Comentario\". |  |\n",
    "| 3) Completar el campo \"Comentario\" según lo provisto en *Datos de Prueba* e intentar enviar el comentario. | Se abre una página de error con un texto que lee \"Error: Por favor, rellena los campos obligatorios.\" |  |\n",
    "| 4) Hacer clic en retroceder del navegador. | Se vuelve a la página del artículo explicativo, a la sección de \"Deja una respuesta\", con los campos como estaban. |  |\n",
    "| 5) Completar el campo \"Nombre\" según lo provisto en *Datos de Prueba* e intentar enviar el comentario. | Se abre una página de error con un texto que lee \"Error: Por favor, rellena los campos obligatorios.\" |  |\n",
    "| 6) Hacer clic en retroceder del navegador. | Se vuelve a la página del artículo explicativo, a la sección de \"Deja una respuesta\", con los campos como estaban. |  |\n",
    "| 7) Borrar el campo \"Nombre\", completar el campo \"Correo electrónico\" según lo provisto en *Datos de Prueba* e intentar enviar el comentario. | Se abre una página de error con un texto que lee \"Error: Por favor, rellena los campos obligatorios.\" |  |\n",
    "\n",
    "- **Estado del Caso**\n",
    "    - *Resultado final*:\n",
    "    - *Comentarios*:\n",
    "- **Información Adicional**\n",
    "    - *Ejecutado por*:\n",
    "    - *Fecha de ejecución*:\n",
    "    - *Ambiente de pruebas*:"
   ]
  },
  {
   "cell_type": "markdown",
   "id": "7259f8ef-41e7-4fd0-8592-21e35af26c8f",
   "metadata": {},
   "source": [
    "- - -\n",
    "\n",
    "##### *ID*: LE_PN0004 - *Título*: Ingresar Texto Extremadamente Largo en el Campo Comentario"
   ]
  },
  {
   "cell_type": "markdown",
   "id": "5998027c-cd79-4239-964a-a056f0e2a2b9",
   "metadata": {},
   "source": [
    "- **Descripción**\n",
    "    <br>Verificar que el campo Comentario gestione textos muy largos, evitando que se genere una ocupación excesiva de espacio de almacenaje.\n",
    "- **Precondiciones**\n",
    "    - Contar con un texto generado según *Datos de Prueba* y *Fuentes de Datos*.\n",
    "    - Estar ubicado en un artículo explicativo. Usar la URL indicada en *Datos de Prueba*.\n",
    "- **Datos de Prueba**\n",
    "    - URL del artículo explicativo: `lanzamientosespaciales.com/calendario/falcon-heavy-mision-psyche`\n",
    "    - Longitud de texto a generar: `10.000 palabras`.\n",
    "    - Nombre para comentario: `Mariana Eustaquia Fernández Gandhi`\n",
    "    - Correo electrónico para comentario: `mariana.e.fernandez.g@ejemplo.com`\n",
    "- **Fuentes de Datos**\n",
    "    - Sitio para generación de texto: `www.lipsum.com`\n",
    "- **Tipo de Prueba**\n",
    "    <br>Negativa \n",
    "- **Pasos de Ejecución**\n",
    "| *Paso* | *Resultado Esperado* | *Resultados Reales* |\n",
    "|--------------|--------------|--------------|\n",
    "| 1) Usando la barra de desplazamiento o la rueda del mouse, dirigirse a la parte inferior de la página, justo debajo del título \"Deja una respuesta\". | Se ven tres campos de texto obligatorios: Comentario, Nombre, Correo electrónico; además, otro campo de texto optativo: Web. |  |\n",
    "| 2) Ingresar los datos obligatorios en los tres campos correspondientes, según se detalla en *Datos de Prueba*. | Los campos quedan completados. |  |\n",
    "| 3) Hacer clic en el botón rosa \"Publicar el comentario\", ubicado debajo de los campos de texto a la izquierda. | Se muestra una pantalla de error, con el texto: \"Error: tu comentario es demasiado largo.\" |  |\n",
    "\n",
    "- **Estado del Caso**\n",
    "    - *Resultado final*:\n",
    "    - *Comentarios*:\n",
    "- **Información Adicional**\n",
    "    - *Ejecutado por*:\n",
    "    - *Fecha de ejecución*:\n",
    "    - *Ambiente de pruebas*:"
   ]
  },
  {
   "cell_type": "markdown",
   "id": "6742bd63-7124-4624-8ec5-b4ffa0acfdb6",
   "metadata": {},
   "source": [
    "- - -\n",
    "\n",
    "##### *ID*: LE_PN0005 - *Título*: Intentar Enviar el Mismo Comentario Dos Veces"
   ]
  },
  {
   "cell_type": "markdown",
   "id": "6a16efa6-6325-47c0-ab7f-fe7869a2a4e5",
   "metadata": {},
   "source": [
    "- **Descripción**\n",
    "    <br>Verificar que se gestiona adecuadamente el envío de un cometario repetido: mismo texto en campo \"Comentario\", mismo autor en campo \"Nombre\" y misma dirección en campo \"Correo electrónico\".\n",
    "- **Precondiciones**\n",
    "    <br>Encontrarse ubicado en un artículo explicativo. Se usará de la URL indicada en *Datos de Prueba*. \n",
    "- **Datos de Prueba**\n",
    "    - URL del artículo explicativo: `lanzamientosespaciales.com/calendario/falcon-heavy-mision-psyche`.\n",
    "    - Texto para comentario: `Lorem ipsum dolor sit amet, consectetur adipiscing elit. Sed do eiusmod tempor incididunt ut labore et dolore magna aliqua. Ut enim ad minim veniam, quis nostrud exercitation ullamco laboris nisi ut aliquip ex ea commodo consequat.`\n",
    "    - Nombre para comentario: `Mariana Eustaquia Fernández Gandhi`\n",
    "    - Correo electrónico para comentario: `mariana.e.fernandez.g@ejemplo.com`\n",
    "- **Fuentes de Datos**\n",
    "    <br>N/A\n",
    "- **Tipo de Prueba**\n",
    "    <br>Negativa\n",
    "- **Pasos de Ejecución**\n",
    "| *Paso* | *Resultado Esperado* | *Resultados Reales* |\n",
    "|--------------|--------------|--------------|\n",
    "| 1) Usando la barra de desplazamiento o la rueda del mouse, dirigirse a la parte inferior de la página, justo debajo del título \"Deja una respuesta\". | Se ven tres campos de texto obligatorios: Comentario, Nombre, Correo electrónico; además, otro campo de texto optativo: Web. |  |\n",
    "| 2) Ingresar los datos obligatorios en los tres campos correspondientes, según se detalla en *Datos de Prueba*. | Los campos quedan completados. |  |\n",
    "| 3) Hacer clic en el botón rosa \"Publicar el comentario\", ubicado debajo de los campos de texto a la izquierda. | En la parte inferior de la página, debajo de la tabla \"Detalles del cohete\", aparece el comentario ingresado, pero debajo del mismo se lee \"Tu comentario está pendiente de moderación.\" Debajo se repite \"Deja una respuesta\" y vuelven a aparecer los campos de texto. |  |\n",
    "| 4) Hacer clic en retroceder del navegador. | Se vuelve a la página del artículo explicativo, a la sección de \"Deja una respuesta\", con los campos como estaban. |  |\n",
    "| 5) Volver a hacer clic en el botón rosa \"Publicar el comentario\", ubicado debajo de los campos de texto a la izquierda. | Se abre una página de error con un texto que lee \"Comentario duplicado: ¡parece que ya había sido enviado antes!\" |  |\n",
    "\n",
    "- **Estado del Caso**\n",
    "    - *Resultado final*:\n",
    "    - *Comentarios*:\n",
    "- **Información Adicional**\n",
    "    - *Ejecutado por*:\n",
    "    - *Fecha de ejecución*:\n",
    "    - *Ambiente de pruebas*:"
   ]
  },
  {
   "cell_type": "markdown",
   "id": "9b4c3083-0db3-45e0-8272-08b8ca06f6eb",
   "metadata": {},
   "source": [
    "### 4 - Clasificación de Casos de Prueba"
   ]
  },
  {
   "cell_type": "markdown",
   "id": "7251d487-8c49-4813-872e-0b6676b6c4c2",
   "metadata": {},
   "source": [
    "| ID        | Título                                               | Funcional | No Funcional | Regresión | Humo  |\n",
    "|-----------|-----------------------------------------------------|-----------|--------------|-----------|-------|\n",
    "| LE_PP0001 | Ingresar a Artículo Futuro desde Página Principal   | ✅         | ❌            | ✅         | ✅     |\n",
    "| LE_PP0002 | Ingresar a Artículo Futuro desde Calendario         | ✅         | ❌            | ❌         | ✅     |\n",
    "| LE_PP0003 | Ingresar a Artículo Pasado desde Calendario         | ✅         | ❌            | ❌         | ✅     |\n",
    "| LE_PP0004 | Probar Filtros de Calendario Reinicializando Cada Uno | ✅         | ❌            | ✅         | ❌     |\n",
    "| LE_PP0005 | Escribir Correctamente un Comentario bajo un Artículo de Lanzamiento | ✅         | ❌            | ✅         | ❌     |\n",
    "| LE_PN0001 | Ingresar Manualmente una URL Incorrecta              | ✅         | ❌            | ✅         | ✅     |\n",
    "| LE_PN0002 | Intentar Publicar Mensaje Ingresando Correo con Formato Incorrecto | ✅         | ❌            | ✅         | ✅     |\n",
    "| LE_PN0003 | Intentar Enviar Comentario con Campos Obligatorios Vacíos | ✅         | ❌            | ✅         | ❌     |\n",
    "| LE_PN0004 | Ingresar Texto Extremadamente Largo en el Campo Comentario | ✅         | ❌            | ✅         | ❌     |\n",
    "| LE_PN0005 | Intentar Enviar el Mismo Comentario Dos Veces        | ✅         | ❌            | ❌         | ❌     |"
   ]
  }
 ],
 "metadata": {
  "kernelspec": {
   "display_name": "Python 3 (ipykernel)",
   "language": "python",
   "name": "python3"
  },
  "language_info": {
   "codemirror_mode": {
    "name": "ipython",
    "version": 3
   },
   "file_extension": ".py",
   "mimetype": "text/x-python",
   "name": "python",
   "nbconvert_exporter": "python",
   "pygments_lexer": "ipython3",
   "version": "3.12.3"
  }
 },
 "nbformat": 4,
 "nbformat_minor": 5
}
